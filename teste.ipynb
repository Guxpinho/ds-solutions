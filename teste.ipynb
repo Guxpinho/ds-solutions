{
 "cells": [
  {
   "cell_type": "code",
   "execution_count": 2,
   "id": "0b9ae179",
   "metadata": {},
   "outputs": [
    {
     "name": "stdout",
     "output_type": "stream",
     "text": [
      "0\n",
      "1\n",
      "2\n",
      "3\n",
      "4\n"
     ]
    }
   ],
   "source": [
    "for i in range(5):\n",
    "    print(i)"
   ]
  },
  {
   "cell_type": "code",
   "execution_count": 3,
   "id": "138587f5",
   "metadata": {},
   "outputs": [
    {
     "name": "stdout",
     "output_type": "stream",
     "text": [
      "hello, word\n"
     ]
    }
   ],
   "source": [
    "print(\"hello, word\")\n"
   ]
  },
  {
   "cell_type": "code",
   "execution_count": null,
   "id": "675e3901",
   "metadata": {},
   "outputs": [],
   "source": [
    "a = int(input(\"digite o priemeiro numero:\"))\n",
    "b = int(input(\"digite o seu segundo numero:\"))\n",
    "soma = a + b\n",
    "print(\"a soma é:\", soma)"
   ]
  },
  {
   "cell_type": "code",
   "execution_count": 1,
   "id": "3fd84b7e",
   "metadata": {},
   "outputs": [
    {
     "name": "stdout",
     "output_type": "stream",
     "text": [
      "                  *                   \n",
      "                 ***                  \n",
      "                *****                 \n",
      "               *******                \n",
      "              *********               \n",
      "             ***********              \n",
      "            *************             \n",
      "           ***************            \n",
      "          *****************           \n",
      "         *******************          \n",
      "                 ***                  \n",
      "                 ***                  \n",
      "                 ***                  \n"
     ]
    }
   ],
   "source": [
    "print(\"                  *                   \")\n",
    "print(\"                 ***                  \")\n",
    "print(\"                *****                 \")\n",
    "print(\"               *******                \")\n",
    "print(\"              *********               \")\n",
    "print(\"             ***********              \")\n",
    "print(\"            *************             \")\n",
    "print(\"           ***************            \")\n",
    "print(\"          *****************           \")\n",
    "print(\"         *******************          \")\n",
    "print(\"                 ***                  \")\n",
    "print(\"                 ***                  \")\n",
    "print(\"                 ***                  \")"
   ]
  },
  {
   "cell_type": "code",
   "execution_count": 5,
   "id": "d5961a15",
   "metadata": {},
   "outputs": [
    {
     "name": "stdout",
     "output_type": "stream",
     "text": [
      "nome: maria\n",
      "idade: 30\n"
     ]
    }
   ],
   "source": [
    "nome =\"maria\"\n",
    "idade = 30 \n",
    "print(\"nome:\",nome,)\n",
    "print(\"idade:\",idade)  \n"
   ]
  },
  {
   "cell_type": "code",
   "execution_count": 2,
   "id": "e7cff598",
   "metadata": {},
   "outputs": [
    {
     "name": "stdout",
     "output_type": "stream",
     "text": [
      "olá, mundo\n"
     ]
    }
   ],
   "source": [
    "print(\"olá\", end=\", \")\n",
    "print(\"mundo\")\n"
   ]
  },
  {
   "cell_type": "code",
   "execution_count": null,
   "id": "085dc1a6",
   "metadata": {},
   "outputs": [
    {
     "ename": "SyntaxError",
     "evalue": "closing parenthesis ']' does not match opening parenthesis '(' (3003802782.py, line 3)",
     "output_type": "error",
     "traceback": [
      "  \u001b[36mCell\u001b[39m\u001b[36m \u001b[39m\u001b[32mIn[1]\u001b[39m\u001b[32m, line 3\u001b[39m\n\u001b[31m    \u001b[39m\u001b[31mprint(f\"{numero} x {i} = {numero * i}\"]\u001b[39m\n                                          ^\n\u001b[31mSyntaxError\u001b[39m\u001b[31m:\u001b[39m closing parenthesis ']' does not match opening parenthesis '('\n"
     ]
    }
   ],
   "source": [
    "numero = int(input(\"Digite um número para ver a tabuada: \"))\n",
    "for i in range(1, 11):\n",
    "    print(f\"{numero} x {i} = {numero * i}\")\n",
    "\n",
    "\n"
   ]
  },
  {
   "cell_type": "code",
   "execution_count": 12,
   "id": "a6d97261",
   "metadata": {},
   "outputs": [
    {
     "name": "stdout",
     "output_type": "stream",
     "text": [
      "meu nome é gustavo, eu tenho 17 anos"
     ]
    }
   ],
   "source": [
    "nome = \"gustavo\"\n",
    "idade = 17 \n",
    "print(f\"meu nome é {nome}\",end=\", \" f\"eu tenho {idade} anos\")"
   ]
  },
  {
   "cell_type": "code",
   "execution_count": 22,
   "id": "2dca02ca",
   "metadata": {},
   "outputs": [
    {
     "name": "stdout",
     "output_type": "stream",
     "text": [
      "valor formatado:00001234.6 \n"
     ]
    }
   ],
   "source": [
    "valor = 1234.56789\n",
    "print(f\"valor formatado:{valor:010.1f} \")"
   ]
  },
  {
   "cell_type": "code",
   "execution_count": null,
   "id": "3b93b7c4",
   "metadata": {},
   "outputs": [],
   "source": [
    "nome = input(\"digit seu nome:\")\n",
    "print(\"olá,(nome)!\")"
   ]
  },
  {
   "cell_type": "code",
   "execution_count": null,
   "id": "09de275f",
   "metadata": {},
   "outputs": [],
   "source": [
    "idade = int(input(\"quantos anos você tem??\"))\n",
    "if idade >= 70:\n",
    "     print(\"você é maior de idade.\")\n",
    "else:\n",
    "     print(\"você é menor de idade.\")"
   ]
  },
  {
   "cell_type": "code",
   "execution_count": 3,
   "id": "7542c29d",
   "metadata": {},
   "outputs": [
    {
     "name": "stdout",
     "output_type": "stream",
     "text": [
      "contagem: 0\n",
      "contagem: 1\n",
      "contagem: 2\n",
      "contagem: 3\n",
      "contagem: 4\n",
      "contagem: 5\n",
      "contagem: 6\n",
      "contagem: 7\n",
      "contagem: 8\n",
      "contagem: 9\n",
      "contagem: 10\n"
     ]
    }
   ],
   "source": [
    "for i in range (11):\n",
    "    print(\"contagem:\", i)"
   ]
  },
  {
   "cell_type": "code",
   "execution_count": 7,
   "id": "ce6321cf",
   "metadata": {},
   "outputs": [
    {
     "name": "stdout",
     "output_type": "stream",
     "text": [
      "contador: 0\n",
      "contador: 1\n",
      "contador: 2\n",
      "contador: 3\n",
      "contador: 4\n",
      "contador: 5\n",
      "contador: 6\n",
      "contador: 7\n",
      "contador: 8\n",
      "contador: 9\n",
      "contador: 10\n"
     ]
    }
   ],
   "source": [
    "contador = 0 \n",
    "while contador < 11:\n",
    "   print(\"contador:\", contador)\n",
    "   contador += 1"
   ]
  },
  {
   "cell_type": "code",
   "execution_count": 12,
   "id": "fa4ea014",
   "metadata": {},
   "outputs": [
    {
     "name": "stdout",
     "output_type": "stream",
     "text": [
      "Olá, Eduardo\n"
     ]
    }
   ],
   "source": [
    "def saudacao(nome):\n",
    "    print(\"Olá,\", nome)\n",
    "\n",
    "saudacao(\"Eduardo\")\n",
    "    "
   ]
  },
  {
   "cell_type": "code",
   "execution_count": null,
   "id": "9ca00d0c",
   "metadata": {},
   "outputs": [
    {
     "ename": "NameError",
     "evalue": "name 'frutas' is not defined",
     "output_type": "error",
     "traceback": [
      "\u001b[31m---------------------------------------------------------------------------\u001b[39m",
      "\u001b[31mNameError\u001b[39m                                 Traceback (most recent call last)",
      "\u001b[36mCell\u001b[39m\u001b[36m \u001b[39m\u001b[32mIn[13]\u001b[39m\u001b[32m, line 2\u001b[39m\n\u001b[32m      1\u001b[39m fruta = [\u001b[33m\"\u001b[39m\u001b[33mMaça\u001b[39m\u001b[33m\"\u001b[39m, \u001b[33m\"\u001b[39m\u001b[33mBanana\u001b[39m\u001b[33m\"\u001b[39m, \u001b[33m\"\u001b[39m\u001b[33mUva\u001b[39m\u001b[33m\"\u001b[39m]\n\u001b[32m----> \u001b[39m\u001b[32m2\u001b[39m \u001b[38;5;28;01mfor\u001b[39;00m fruta \u001b[38;5;129;01min\u001b[39;00m \u001b[43mfrutas\u001b[49m:\n\u001b[32m      3\u001b[39m     \u001b[38;5;28mprint\u001b[39m(\u001b[33m\"\u001b[39m\u001b[33meu gosto de:\u001b[39m\u001b[33m\"\u001b[39m, fruta)\n",
      "\u001b[31mNameError\u001b[39m: name 'frutas' is not defined"
     ]
    }
   ],
   "source": [
    "frutas = [\"maçã\", \"banana\", \"laranja\"]\n",
    "for fruta in frutas:\n",
    "    print(\"Eu gosto de\", fruta)"
   ]
  },
  {
   "cell_type": "code",
   "execution_count": 1,
   "id": "bab98cfa",
   "metadata": {},
   "outputs": [
    {
     "name": "stdout",
     "output_type": "stream",
     "text": [
      "Nome: João\n",
      "Idade: 30\n"
     ]
    }
   ],
   "source": [
    "pessoa = {\"nome\": \"João\", \"idade\": 30}\n",
    "print(\"Nome:\", pessoa[\"nome\"])\n",
    "print(\"Idade:\", pessoa[\"idade\"])\n"
   ]
  },
  {
   "cell_type": "code",
   "execution_count": 2,
   "id": "c4de5995",
   "metadata": {},
   "outputs": [
    {
     "ename": "FileNotFoundError",
     "evalue": "[Errno 2] No such file or directory: 'arquivo.txt'",
     "output_type": "error",
     "traceback": [
      "\u001b[31m---------------------------------------------------------------------------\u001b[39m",
      "\u001b[31mFileNotFoundError\u001b[39m                         Traceback (most recent call last)",
      "\u001b[36mCell\u001b[39m\u001b[36m \u001b[39m\u001b[32mIn[2]\u001b[39m\u001b[32m, line 1\u001b[39m\n\u001b[32m----> \u001b[39m\u001b[32m1\u001b[39m \u001b[38;5;28;01mwith\u001b[39;00m \u001b[38;5;28;43mopen\u001b[39;49m\u001b[43m(\u001b[49m\u001b[33;43m\"\u001b[39;49m\u001b[33;43marquivo.txt\u001b[39;49m\u001b[33;43m\"\u001b[39;49m\u001b[43m,\u001b[49m\u001b[43m \u001b[49m\u001b[33;43m\"\u001b[39;49m\u001b[33;43mr\u001b[39;49m\u001b[33;43m\"\u001b[39;49m\u001b[43m)\u001b[49m \u001b[38;5;28;01mas\u001b[39;00m arquivo:\n\u001b[32m      2\u001b[39m     conteudo = arquivo.read()\n\u001b[32m      3\u001b[39m     \u001b[38;5;28mprint\u001b[39m(conteudo)\n",
      "\u001b[36mFile \u001b[39m\u001b[32m~\\AppData\\Roaming\\Python\\Python313\\site-packages\\IPython\\core\\interactiveshell.py:326\u001b[39m, in \u001b[36m_modified_open\u001b[39m\u001b[34m(file, *args, **kwargs)\u001b[39m\n\u001b[32m    319\u001b[39m \u001b[38;5;28;01mif\u001b[39;00m file \u001b[38;5;129;01min\u001b[39;00m {\u001b[32m0\u001b[39m, \u001b[32m1\u001b[39m, \u001b[32m2\u001b[39m}:\n\u001b[32m    320\u001b[39m     \u001b[38;5;28;01mraise\u001b[39;00m \u001b[38;5;167;01mValueError\u001b[39;00m(\n\u001b[32m    321\u001b[39m         \u001b[33mf\u001b[39m\u001b[33m\"\u001b[39m\u001b[33mIPython won\u001b[39m\u001b[33m'\u001b[39m\u001b[33mt let you open fd=\u001b[39m\u001b[38;5;132;01m{\u001b[39;00mfile\u001b[38;5;132;01m}\u001b[39;00m\u001b[33m by default \u001b[39m\u001b[33m\"\u001b[39m\n\u001b[32m    322\u001b[39m         \u001b[33m\"\u001b[39m\u001b[33mas it is likely to crash IPython. If you know what you are doing, \u001b[39m\u001b[33m\"\u001b[39m\n\u001b[32m    323\u001b[39m         \u001b[33m\"\u001b[39m\u001b[33myou can use builtins\u001b[39m\u001b[33m'\u001b[39m\u001b[33m open.\u001b[39m\u001b[33m\"\u001b[39m\n\u001b[32m    324\u001b[39m     )\n\u001b[32m--> \u001b[39m\u001b[32m326\u001b[39m \u001b[38;5;28;01mreturn\u001b[39;00m \u001b[43mio_open\u001b[49m\u001b[43m(\u001b[49m\u001b[43mfile\u001b[49m\u001b[43m,\u001b[49m\u001b[43m \u001b[49m\u001b[43m*\u001b[49m\u001b[43margs\u001b[49m\u001b[43m,\u001b[49m\u001b[43m \u001b[49m\u001b[43m*\u001b[49m\u001b[43m*\u001b[49m\u001b[43mkwargs\u001b[49m\u001b[43m)\u001b[49m\n",
      "\u001b[31mFileNotFoundError\u001b[39m: [Errno 2] No such file or directory: 'arquivo.txt'"
     ]
    }
   ],
   "source": [
    "with open(\"arquivo.txt\", \"r\") as arquivo:\n",
    "    conteudo = arquivo.read()\n",
    "    print(conteudo)"
   ]
  },
  {
   "cell_type": "code",
   "execution_count": null,
   "id": "ab1a1ee1",
   "metadata": {},
   "outputs": [],
   "source": [
    "nota = 7 \n",
    "if nota >= 9: \n",
    " print(\"excelente\")\n",
    "elif nota >= 7:\n",
    " print(\"bom\")\n",
    "elif nota >= 5:\n",
    " print(\"regular\")\n",
    "else:\n",
    " print(\"reprovado\")"
   ]
  },
  {
   "cell_type": "code",
   "execution_count": null,
   "id": "20b7b239",
   "metadata": {},
   "outputs": [],
   "source": [
    "idade = 17\n",
    "status = \"maior\" if idade >= 18 else \"menor\"\n",
    "print(status)\n"
   ]
  },
  {
   "cell_type": "code",
   "execution_count": null,
   "id": "8a17b8ce",
   "metadata": {},
   "outputs": [],
   "source": [
    "idade = 20 \n",
    "tem_carteira = True \n",
    "if idade >=18: \n",
    "    if Tem_carteira:\n",
    "     print(\"pode dirigir\")\n",
    " else:\n",
    "     print(\"precisa tirar a carteira\")\n",
    " else:\n",
    "     print(\"muito jovem para dirigir\")        \n"
   ]
  },
  {
   "cell_type": "code",
   "execution_count": null,
   "id": "4760f802",
   "metadata": {},
   "outputs": [],
   "source": [
    "opcao = 'editar'\n",
    "match opcao:\n",
    "    case 'novo':\n",
    "        print(\"cirar novo arquivo\")\n",
    "    case \"abrir\":\n",
    "        print(\"editar arquivo\")\n",
    "    case _:\n",
    "         print(\"opção inválida\")"
   ]
  },
  {
   "cell_type": "code",
   "execution_count": null,
   "id": "cdca2416",
   "metadata": {},
   "outputs": [],
   "source": [
    "numero = 2 \n",
    "match numero:\n",
    "    case 1:\n",
    "     print(\"um\")\n",
    "    case 2:\n",
    "     print(\"dois\")\n",
    "    case 3:\n",
    "     print(\"tres\")\n",
    "    case _:\n",
    "     print(\"outro número\")\n",
    "     "
   ]
  }
 ],
 "metadata": {
  "kernelspec": {
   "display_name": "Python 3",
   "language": "python",
   "name": "python3"
  },
  "language_info": {
   "codemirror_mode": {
    "name": "ipython",
    "version": 3
   },
   "file_extension": ".py",
   "mimetype": "text/x-python",
   "name": "python",
   "nbconvert_exporter": "python",
   "pygments_lexer": "ipython3",
   "version": "3.13.3"
  }
 },
 "nbformat": 4,
 "nbformat_minor": 5
}
